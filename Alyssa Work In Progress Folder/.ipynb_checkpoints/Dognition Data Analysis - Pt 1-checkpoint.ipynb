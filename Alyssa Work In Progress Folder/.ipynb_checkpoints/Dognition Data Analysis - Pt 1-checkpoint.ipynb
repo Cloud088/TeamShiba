{
 "cells": [
  {
   "cell_type": "code",
   "execution_count": 2,
   "id": "41e98db9",
   "metadata": {},
   "outputs": [],
   "source": [
    "import pandas as pd\n",
    "import numpy as np\n",
    "import matplotlib.pyplot as plt\n",
    "import seaborn as sns"
   ]
  },
  {
   "cell_type": "code",
   "execution_count": null,
   "id": "fd9d51f2",
   "metadata": {},
   "outputs": [],
   "source": [
    "read_file = pd.read_excel(\"dognition_data_no_aggregation_with_zip_code_correction.xlsx\")"
   ]
  },
  {
   "cell_type": "code",
   "execution_count": null,
   "id": "447f1b72",
   "metadata": {},
   "outputs": [],
   "source": []
  }
 ],
 "metadata": {
  "kernelspec": {
   "display_name": "Python 3 (ipykernel)",
   "language": "python",
   "name": "python3"
  },
  "language_info": {
   "codemirror_mode": {
    "name": "ipython",
    "version": 3
   },
   "file_extension": ".py",
   "mimetype": "text/x-python",
   "name": "python",
   "nbconvert_exporter": "python",
   "pygments_lexer": "ipython3",
   "version": "3.11.4"
  }
 },
 "nbformat": 4,
 "nbformat_minor": 5
}
